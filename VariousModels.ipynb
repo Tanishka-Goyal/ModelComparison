{
  "nbformat": 4,
  "nbformat_minor": 0,
  "metadata": {
    "colab": {
      "provenance": [],
      "authorship_tag": "ABX9TyONgY2mIG102tPCypwgdhNM",
      "include_colab_link": true
    },
    "kernelspec": {
      "name": "python3",
      "display_name": "Python 3"
    },
    "language_info": {
      "name": "python"
    }
  },
  "cells": [
    {
      "cell_type": "markdown",
      "metadata": {
        "id": "view-in-github",
        "colab_type": "text"
      },
      "source": [
        "<a href=\"https://colab.research.google.com/github/Tanishka-Goyal/ModelComparison/blob/main/VariousModels.ipynb\" target=\"_parent\"><img src=\"https://colab.research.google.com/assets/colab-badge.svg\" alt=\"Open In Colab\"/></a>"
      ]
    },
    {
      "cell_type": "code",
      "source": [
        "import numpy as np\n",
        "import pandas as pd\n",
        "from sklearn.model_selection import cross_val_score, train_test_split\n",
        "from sklearn.linear_model import LinearRegression, Ridge\n",
        "from sklearn.tree import DecisionTreeRegressor\n",
        "from sklearn.neighbors import KNeighborsRegressor\n",
        "from sklearn.svm import SVR\n",
        "from sklearn.ensemble import RandomForestRegressor, GradientBoostingRegressor\n",
        "from sklearn.metrics import mean_squared_error\n"
      ],
      "metadata": {
        "id": "sYR6rWd8TULE"
      },
      "execution_count": null,
      "outputs": []
    },
    {
      "cell_type": "code",
      "source": [
        "from google.colab import drive\n",
        "drive.mount('/content/drive')\n",
        "df = pd.read_excel('/content/drive/MyDrive/Fuzzy_data.xlsx')"
      ],
      "metadata": {
        "colab": {
          "base_uri": "https://localhost:8080/"
        },
        "id": "4tj4XYEETXGQ",
        "outputId": "24410fec-423f-46aa-fa64-3b99117dcccd"
      },
      "execution_count": null,
      "outputs": [
        {
          "output_type": "stream",
          "name": "stdout",
          "text": [
            "Drive already mounted at /content/drive; to attempt to forcibly remount, call drive.mount(\"/content/drive\", force_remount=True).\n"
          ]
        }
      ]
    },
    {
      "cell_type": "code",
      "source": [
        "X = df.iloc[:, 0:-1].values\n",
        "y = df.iloc[:,-1].values"
      ],
      "metadata": {
        "id": "X30cHAu1TYBJ"
      },
      "execution_count": null,
      "outputs": []
    },
    {
      "cell_type": "code",
      "source": [
        "# Split data into training and testing sets\n",
        "X_train, X_test, y_train, y_test = train_test_split(X, y, test_size=0.2, random_state=42)\n",
        "\n",
        "# Models to test\n",
        "models = {\n",
        "    \"Linear Regression\": LinearRegression(),\n",
        "    \"Ridge Regression\": Ridge(),\n",
        "    \"SVR\":SVR(),\n",
        "    \"Decision Tree\": DecisionTreeRegressor(),\n",
        "    \"k-Nearest Neighbors\": KNeighborsRegressor(),\n",
        "    \"Random Forest\": RandomForestRegressor(),\n",
        "    \"Gradient Boosting\": GradientBoostingRegressor()\n",
        "}\n",
        "\n",
        "# Cross-validation and model selection\n",
        "best_model = None\n",
        "best_score = float('inf')\n",
        "\n",
        "for name, model in models.items():\n",
        "    scores = cross_val_score(model, X_train, y_train, cv=5, scoring='neg_mean_squared_error')\n",
        "    avg_score = -np.mean(scores)\n",
        "    print(f\"{name} - Average MSE: {avg_score}\")\n",
        "    if avg_score < best_score:\n",
        "        best_model = model\n",
        "        best_score = avg_score\n",
        "\n",
        "# Fit the best model\n",
        "best_model.fit(X_train, y_train)\n",
        "\n",
        "# Evaluate on test set\n",
        "y_pred = best_model.predict(X_test)\n",
        "test_mse = mean_squared_error(y_test, y_pred)\n",
        "print(f\"Best model: {best_model.__class__.__name__}\")\n",
        "print(f\"Test MSE: {test_mse}\")\n"
      ],
      "metadata": {
        "colab": {
          "base_uri": "https://localhost:8080/"
        },
        "id": "iAWa9hp5TRdv",
        "outputId": "30206b20-08d7-4420-d48f-6e289e294dfb"
      },
      "execution_count": null,
      "outputs": [
        {
          "output_type": "stream",
          "name": "stdout",
          "text": [
            "Linear Regression - Average MSE: 783.5540466959458\n",
            "Ridge Regression - Average MSE: 8.445359630926632\n",
            "SVR - Average MSE: 5.503301174058987\n",
            "Decision Tree - Average MSE: 2.5346495952033337\n",
            "k-Nearest Neighbors - Average MSE: 6.2407134247872005\n",
            "Random Forest - Average MSE: 3.4168123929257526\n",
            "Gradient Boosting - Average MSE: 3.8238383446861066\n",
            "Best model: DecisionTreeRegressor\n",
            "Test MSE: 0.5678208958655001\n"
          ]
        }
      ]
    },
    {
      "cell_type": "code",
      "source": [],
      "metadata": {
        "id": "x6sfj9WjTRDc"
      },
      "execution_count": null,
      "outputs": []
    },
    {
      "cell_type": "code",
      "execution_count": null,
      "metadata": {
        "id": "Rp6YX_nvTPGW"
      },
      "outputs": [],
      "source": []
    }
  ]
}